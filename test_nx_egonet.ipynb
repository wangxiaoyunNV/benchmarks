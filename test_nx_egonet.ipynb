{
 "cells": [
  {
   "cell_type": "code",
   "execution_count": 1,
   "metadata": {},
   "outputs": [],
   "source": [
    "from operator import itemgetter\n",
    "\n",
    "import networkx as nx"
   ]
  },
  {
   "cell_type": "code",
   "execution_count": 11,
   "metadata": {},
   "outputs": [],
   "source": [
    "# Create a BA model graph\n",
    "# test for single graph\n",
    "n = 1000\n",
    "m = 2\n",
    "G = nx.generators.barabasi_albert_graph(n, m)\n",
    "\n",
    "# find node with largest degree\n",
    "node_and_degree = G.degree()\n",
    "(largest_hub, degree) = sorted(node_and_degree, key=itemgetter(1))[-1]\n",
    "\n",
    "# Create ego graph of main hub\n",
    "hub_ego = nx.ego_graph(G, largest_hub)\n"
   ]
  },
  {
   "cell_type": "code",
   "execution_count": 5,
   "metadata": {},
   "outputs": [
    {
     "data": {
      "text/plain": [
       "78"
      ]
     },
     "execution_count": 5,
     "metadata": {},
     "output_type": "execute_result"
    }
   ],
   "source": [
    "hub_ego.number_of_nodes()"
   ]
  },
  {
   "cell_type": "code",
   "execution_count": 6,
   "metadata": {},
   "outputs": [
    {
     "data": {
      "text/plain": [
       "EdgeView([(0, 2), (0, 685), (1, 2), (1, 3), (1, 135), (2, 3), (2, 5), (2, 8), (2, 12), (2, 13), (2, 14), (2, 27), (2, 32), (2, 35), (2, 37), (2, 38), (2, 40), (2, 55), (2, 65), (2, 71), (2, 100), (2, 106), (2, 113), (2, 130), (2, 132), (2, 133), (2, 135), (2, 141), (2, 143), (2, 145), (2, 170), (2, 171), (2, 172), (2, 184), (2, 192), (2, 197), (2, 209), (2, 211), (2, 232), (2, 246), (2, 248), (2, 257), (2, 265), (2, 272), (2, 287), (2, 297), (2, 305), (2, 311), (2, 348), (2, 355), (2, 372), (2, 382), (2, 439), (2, 465), (2, 471), (2, 495), (2, 514), (2, 525), (2, 527), (2, 552), (2, 575), (2, 597), (2, 603), (2, 677), (2, 685), (2, 687), (2, 696), (2, 709), (2, 722), (2, 745), (2, 750), (2, 756), (2, 761), (2, 808), (2, 839), (2, 885), (2, 909), (2, 931), (2, 943), (2, 964), (3, 5), (3, 38), (3, 272), (3, 527), (5, 13), (5, 14), (5, 35), (5, 372), (13, 248), (14, 71), (65, 106), (297, 885)])"
      ]
     },
     "execution_count": 6,
     "metadata": {},
     "output_type": "execute_result"
    }
   ],
   "source": [
    "hub_ego.edges()"
   ]
  },
  {
   "cell_type": "code",
   "execution_count": 10,
   "metadata": {},
   "outputs": [
    {
     "data": {
      "text/plain": [
       "EdgeDataView([(2, 0), (2, 1), (2, 3), (2, 5), (2, 8), (2, 12), (2, 13), (2, 14), (2, 27), (2, 32), (2, 35), (2, 37), (2, 38), (2, 40), (2, 55), (2, 65), (2, 71), (2, 100), (2, 106), (2, 113), (2, 130), (2, 132), (2, 133), (2, 135), (2, 141), (2, 143), (2, 145), (2, 170), (2, 171), (2, 172), (2, 184), (2, 192), (2, 197), (2, 209), (2, 211), (2, 232), (2, 246), (2, 248), (2, 257), (2, 265), (2, 272), (2, 287), (2, 297), (2, 305), (2, 311), (2, 348), (2, 355), (2, 372), (2, 382), (2, 439), (2, 465), (2, 471), (2, 495), (2, 514), (2, 525), (2, 527), (2, 552), (2, 575), (2, 597), (2, 603), (2, 677), (2, 685), (2, 687), (2, 696), (2, 709), (2, 722), (2, 745), (2, 750), (2, 756), (2, 761), (2, 808), (2, 839), (2, 885), (2, 909), (2, 931), (2, 943), (2, 964)])"
      ]
     },
     "execution_count": 10,
     "metadata": {},
     "output_type": "execute_result"
    }
   ],
   "source": [
    "# print all the edges with source node \"2\"\n",
    "hub_ego.edges(2)\n"
   ]
  },
  {
   "cell_type": "code",
   "execution_count": null,
   "metadata": {},
   "outputs": [],
   "source": []
  }
 ],
 "metadata": {
  "kernelspec": {
   "display_name": "Python 3",
   "language": "python",
   "name": "python3"
  },
  "language_info": {
   "codemirror_mode": {
    "name": "ipython",
    "version": 3
   },
   "file_extension": ".py",
   "mimetype": "text/x-python",
   "name": "python",
   "nbconvert_exporter": "python",
   "pygments_lexer": "ipython3",
   "version": "3.7.7"
  }
 },
 "nbformat": 4,
 "nbformat_minor": 4
}

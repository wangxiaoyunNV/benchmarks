{
 "cells": [
  {
   "cell_type": "code",
   "execution_count": 1,
   "metadata": {},
   "outputs": [],
   "source": [
    "from operator import itemgetter\n",
    "\n",
    "import networkx as nx"
   ]
  },
  {
   "cell_type": "code",
   "execution_count": 11,
   "metadata": {},
   "outputs": [],
   "source": [
    "# Create a BA model graph\n",
    "# test for single graph\n",
    "n = 1000\n",
    "m = 2\n",
    "G = nx.generators.barabasi_albert_graph(n, m)\n",
    "\n",
    "# find node with largest degree\n",
    "node_and_degree = G.degree()\n",
    "(largest_hub, degree) = sorted(node_and_degree, key=itemgetter(1))[-1]\n",
    "\n",
    "# Create ego graph of main hub\n",
    "hub_ego = nx.ego_graph(G, largest_hub)\n"
   ]
  },
  {
   "cell_type": "code",
   "execution_count": 5,
   "metadata": {},
   "outputs": [
    {
     "data": {
      "text/plain": [
       "78"
      ]
     },
     "execution_count": 5,
     "metadata": {},
     "output_type": "execute_result"
    }
   ],
   "source": [
    "hub_ego.number_of_nodes()"
   ]
  },
  {
   "cell_type": "code",
   "execution_count": 6,
   "metadata": {},
   "outputs": [
    {
     "data": {
      "text/plain": [
       "EdgeView([(0, 2), (0, 685), (1, 2), (1, 3), (1, 135), (2, 3), (2, 5), (2, 8), (2, 12), (2, 13), (2, 14), (2, 27), (2, 32), (2, 35), (2, 37), (2, 38), (2, 40), (2, 55), (2, 65), (2, 71), (2, 100), (2, 106), (2, 113), (2, 130), (2, 132), (2, 133), (2, 135), (2, 141), (2, 143), (2, 145), (2, 170), (2, 171), (2, 172), (2, 184), (2, 192), (2, 197), (2, 209), (2, 211), (2, 232), (2, 246), (2, 248), (2, 257), (2, 265), (2, 272), (2, 287), (2, 297), (2, 305), (2, 311), (2, 348), (2, 355), (2, 372), (2, 382), (2, 439), (2, 465), (2, 471), (2, 495), (2, 514), (2, 525), (2, 527), (2, 552), (2, 575), (2, 597), (2, 603), (2, 677), (2, 685), (2, 687), (2, 696), (2, 709), (2, 722), (2, 745), (2, 750), (2, 756), (2, 761), (2, 808), (2, 839), (2, 885), (2, 909), (2, 931), (2, 943), (2, 964), (3, 5), (3, 38), (3, 272), (3, 527), (5, 13), (5, 14), (5, 35), (5, 372), (13, 248), (14, 71), (65, 106), (297, 885)])"
      ]
     },
     "execution_count": 6,
     "metadata": {},
     "output_type": "execute_result"
    }
   ],
   "source": [
    "hub_ego.edges()"
   ]
  },
  {
   "cell_type": "code",
   "execution_count": 10,
   "metadata": {},
   "outputs": [
    {
     "data": {
      "text/plain": [
       "EdgeDataView([(2, 0), (2, 1), (2, 3), (2, 5), (2, 8), (2, 12), (2, 13), (2, 14), (2, 27), (2, 32), (2, 35), (2, 37), (2, 38), (2, 40), (2, 55), (2, 65), (2, 71), (2, 100), (2, 106), (2, 113), (2, 130), (2, 132), (2, 133), (2, 135), (2, 141), (2, 143), (2, 145), (2, 170), (2, 171), (2, 172), (2, 184), (2, 192), (2, 197), (2, 209), (2, 211), (2, 232), (2, 246), (2, 248), (2, 257), (2, 265), (2, 272), (2, 287), (2, 297), (2, 305), (2, 311), (2, 348), (2, 355), (2, 372), (2, 382), (2, 439), (2, 465), (2, 471), (2, 495), (2, 514), (2, 525), (2, 527), (2, 552), (2, 575), (2, 597), (2, 603), (2, 677), (2, 685), (2, 687), (2, 696), (2, 709), (2, 722), (2, 745), (2, 750), (2, 756), (2, 761), (2, 808), (2, 839), (2, 885), (2, 909), (2, 931), (2, 943), (2, 964)])"
      ]
     },
     "execution_count": 10,
     "metadata": {},
     "output_type": "execute_result"
    }
   ],
   "source": [
    "# print all the edges with source node \"2\"\n",
    "hub_ego.edges(2)"
   ]
  },
  {
   "cell_type": "code",
   "execution_count": 15,
   "metadata": {},
   "outputs": [
    {
     "name": "stdout",
     "output_type": "stream",
     "text": [
      "0\n",
      "1\n",
      "3\n",
      "4\n",
      "5\n",
      "8\n",
      "9\n",
      "11\n",
      "16\n",
      "18\n",
      "19\n",
      "20\n",
      "21\n",
      "22\n",
      "23\n",
      "25\n",
      "26\n",
      "34\n",
      "35\n",
      "37\n",
      "41\n",
      "47\n",
      "56\n",
      "61\n",
      "62\n",
      "64\n",
      "65\n",
      "76\n",
      "82\n",
      "83\n",
      "89\n",
      "91\n",
      "110\n",
      "115\n",
      "129\n",
      "133\n",
      "150\n",
      "153\n",
      "163\n",
      "176\n",
      "177\n",
      "197\n",
      "199\n",
      "202\n",
      "211\n",
      "218\n",
      "220\n",
      "224\n",
      "226\n",
      "243\n",
      "253\n",
      "256\n",
      "268\n",
      "275\n",
      "286\n",
      "292\n",
      "305\n",
      "346\n",
      "387\n",
      "394\n",
      "408\n",
      "425\n",
      "429\n",
      "430\n",
      "438\n",
      "447\n",
      "449\n",
      "460\n",
      "462\n",
      "463\n",
      "475\n",
      "485\n",
      "504\n",
      "509\n",
      "523\n",
      "526\n",
      "538\n",
      "573\n",
      "579\n",
      "589\n",
      "645\n",
      "646\n",
      "652\n",
      "659\n",
      "708\n",
      "714\n",
      "716\n",
      "741\n",
      "748\n",
      "755\n",
      "759\n",
      "762\n",
      "771\n",
      "786\n",
      "793\n",
      "809\n",
      "821\n",
      "837\n",
      "855\n",
      "856\n",
      "870\n",
      "896\n",
      "914\n",
      "922\n",
      "957\n",
      "960\n",
      "968\n"
     ]
    }
   ],
   "source": [
    "# get all target nodes with source nodes \"2\"\n",
    "for e in hub_ego.edges(2):\n",
    "    source, target = e\n",
    "    print (target)"
   ]
  },
  {
   "cell_type": "code",
   "execution_count": 16,
   "metadata": {},
   "outputs": [
    {
     "data": {
      "text/plain": [
       "[0,\n",
       " 1,\n",
       " 3,\n",
       " 4,\n",
       " 5,\n",
       " 8,\n",
       " 9,\n",
       " 11,\n",
       " 16,\n",
       " 18,\n",
       " 19,\n",
       " 20,\n",
       " 21,\n",
       " 22,\n",
       " 23,\n",
       " 25,\n",
       " 26,\n",
       " 34,\n",
       " 35,\n",
       " 37,\n",
       " 41,\n",
       " 47,\n",
       " 56,\n",
       " 61,\n",
       " 62,\n",
       " 64,\n",
       " 65,\n",
       " 76,\n",
       " 82,\n",
       " 83,\n",
       " 89,\n",
       " 91,\n",
       " 110,\n",
       " 115,\n",
       " 129,\n",
       " 133,\n",
       " 150,\n",
       " 153,\n",
       " 163,\n",
       " 176,\n",
       " 177,\n",
       " 197,\n",
       " 199,\n",
       " 202,\n",
       " 211,\n",
       " 218,\n",
       " 220,\n",
       " 224,\n",
       " 226,\n",
       " 243,\n",
       " 253,\n",
       " 256,\n",
       " 268,\n",
       " 275,\n",
       " 286,\n",
       " 292,\n",
       " 305,\n",
       " 346,\n",
       " 387,\n",
       " 394,\n",
       " 408,\n",
       " 425,\n",
       " 429,\n",
       " 430,\n",
       " 438,\n",
       " 447,\n",
       " 449,\n",
       " 460,\n",
       " 462,\n",
       " 463,\n",
       " 475,\n",
       " 485,\n",
       " 504,\n",
       " 509,\n",
       " 523,\n",
       " 526,\n",
       " 538,\n",
       " 573,\n",
       " 579,\n",
       " 589,\n",
       " 645,\n",
       " 646,\n",
       " 652,\n",
       " 659,\n",
       " 708,\n",
       " 714,\n",
       " 716,\n",
       " 741,\n",
       " 748,\n",
       " 755,\n",
       " 759,\n",
       " 762,\n",
       " 771,\n",
       " 786,\n",
       " 793,\n",
       " 809,\n",
       " 821,\n",
       " 837,\n",
       " 855,\n",
       " 856,\n",
       " 870,\n",
       " 896,\n",
       " 914,\n",
       " 922,\n",
       " 957,\n",
       " 960,\n",
       " 968]"
      ]
     },
     "execution_count": 16,
     "metadata": {},
     "output_type": "execute_result"
    }
   ],
   "source": [
    "target = [item[1] for item in list(hub_ego.edges(2))]\n",
    "target"
   ]
  },
  {
   "cell_type": "code",
   "execution_count": null,
   "metadata": {},
   "outputs": [],
   "source": [
    "# finished with single graph required operators testing"
   ]
  }
 ],
 "metadata": {
  "kernelspec": {
   "display_name": "Python 3",
   "language": "python",
   "name": "python3"
  },
  "language_info": {
   "codemirror_mode": {
    "name": "ipython",
    "version": 3
   },
   "file_extension": ".py",
   "mimetype": "text/x-python",
   "name": "python",
   "nbconvert_exporter": "python",
   "pygments_lexer": "ipython3",
   "version": "3.7.7"
  }
 },
 "nbformat": 4,
 "nbformat_minor": 4
}

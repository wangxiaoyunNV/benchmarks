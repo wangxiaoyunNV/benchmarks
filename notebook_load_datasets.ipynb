{
 "cells": [
  {
   "cell_type": "code",
   "execution_count": 1,
   "metadata": {},
   "outputs": [
    {
     "name": "stderr",
     "output_type": "stream",
     "text": [
      "Using backend: pytorch\n"
     ]
    }
   ],
   "source": [
    "import dgl\n",
    "import torch as th\n",
    "from dgl.data import RedditDataset\n",
    "from dgl.data.rdf import AIFBDataset, MUTAGDataset, BGSDataset, AMDataset\n",
    "import scipy.io\n",
    "import urllib.request"
   ]
  },
  {
   "cell_type": "code",
   "execution_count": 2,
   "metadata": {},
   "outputs": [],
   "source": [
    "def load_reddit():\n",
    "    # load reddit data\n",
    "    data = RedditDataset(self_loop=True)\n",
    "    g = data[0]\n",
    "    g.ndata['features'] = g.ndata['feat']\n",
    "    g.ndata['labels'] = g.ndata['label']\n",
    "    return g, data.num_labels\n",
    "\n",
    "\n",
    "def load_acm():\n",
    "    # load acm data\n",
    "    data_url = 'https://data.dgl.ai/dataset/ACM.mat'\n",
    "    data_file_path = '/tmp/ACM.mat'\n",
    "    urllib.request.urlretrieve(data_url, data_file_path)\n",
    "    data = scipy.io.loadmat(data_file_path)\n",
    "    return data\n",
    "\n",
    "\n",
    "def load_aifb():\n",
    "    # load aifb dataset\n",
    "    dataset = AIFBDataset()\n",
    "    return dataset\n",
    "\n",
    "def load_MUTAG():\n",
    "    # load MUTAGDataset\n",
    "    dataset = MUTAGDataset()\n",
    "    return dataset\n",
    "\n",
    "def load_BGS():\n",
    "    # load BGSDataset \n",
    "    dataset = BGSDataset()\n",
    "    return dataset\n",
    "\n",
    "def load_AM():\n",
    "    # load AMDataset \n",
    "    dataset = AMDataset()\n",
    "    return dataset\n",
    "                         "
   ]
  },
  {
   "cell_type": "code",
   "execution_count": 3,
   "metadata": {},
   "outputs": [
    {
     "name": "stderr",
     "output_type": "stream",
     "text": [
      "/home/xiaoyunw/miniconda3/lib/python3.7/site-packages/dgl/data/utils.py:285: UserWarning: Property dataset.num_labels will be deprecated, please use dataset.num_classes instead.\n",
      "  warnings.warn('Property {} will be deprecated, please use {} instead.'.format(old, new))\n"
     ]
    },
    {
     "name": "stdout",
     "output_type": "stream",
     "text": [
      "Done loading data from cached files.\n",
      "Done loading data from cached files.\n",
      "Done loading data from cached files.\n"
     ]
    }
   ],
   "source": [
    "reddit_g, num_labels = load_reddit()\n",
    "acm_data = load_acm()\n",
    "aifb_data = load_aifb()\n",
    "mutagdata = load_MUTAG()\n",
    "dgsdata = load_BGS()\n",
    "#amdata = load_AM()"
   ]
  },
  {
   "cell_type": "code",
   "execution_count": 4,
   "metadata": {},
   "outputs": [],
   "source": [
    "# then the dataset will be at ~/.dgl repo\n",
    "# and ACM dataset is in /tmp/ repo"
   ]
  },
  {
   "cell_type": "code",
   "execution_count": null,
   "metadata": {},
   "outputs": [],
   "source": []
  }
 ],
 "metadata": {
  "kernelspec": {
   "display_name": "Python 3",
   "language": "python",
   "name": "python3"
  },
  "language_info": {
   "codemirror_mode": {
    "name": "ipython",
    "version": 3
   },
   "file_extension": ".py",
   "mimetype": "text/x-python",
   "name": "python",
   "nbconvert_exporter": "python",
   "pygments_lexer": "ipython3",
   "version": "3.7.7"
  }
 },
 "nbformat": 4,
 "nbformat_minor": 4
}
